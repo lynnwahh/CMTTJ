{
 "cells": [
  {
   "cell_type": "code",
   "execution_count": 3,
   "id": "1439296f-0c90-4979-907f-52caf7d0ced2",
   "metadata": {},
   "outputs": [],
   "source": [
    "import torch\n",
    "model_path = './models/cifar10/Linf/Carmon2019Unlabeled.pt'\n",
    "checkpoint = torch.load(model_path, map_location=torch.device('cpu'))"
   ]
  },
  {
   "cell_type": "code",
   "execution_count": 2,
   "id": "376d3e16-5f27-47ee-857b-4b0470814541",
   "metadata": {},
   "outputs": [],
   "source": [
    "from robustbench import load_model\n",
    "from robustbench.model_zoo.enums import ThreatModel\n",
    "\n",
    "model = load_model('Standard','./ckpt','cifar10', ThreatModel.corruptions)"
   ]
  },
  {
   "cell_type": "code",
   "execution_count": 20,
   "id": "73acf5d4-cb02-4fd4-a88d-d20bae624a91",
   "metadata": {},
   "outputs": [
    {
     "ename": "KeyError",
     "evalue": "'Carmon2019Unlabeled'",
     "output_type": "error",
     "traceback": [
      "\u001b[0;31m---------------------------------------------------------------------------\u001b[0m",
      "\u001b[0;31mKeyError\u001b[0m                                  Traceback (most recent call last)",
      "\u001b[0;32m/tmp/ipykernel_924/1211944372.py\u001b[0m in \u001b[0;36m<module>\u001b[0;34m\u001b[0m\n\u001b[0;32m----> 1\u001b[0;31m \u001b[0mmodel\u001b[0m \u001b[0;34m=\u001b[0m \u001b[0mload_model\u001b[0m\u001b[0;34m(\u001b[0m\u001b[0mmodel_name\u001b[0m\u001b[0;34m=\u001b[0m\u001b[0;34m'Carmon2019Unlabeled'\u001b[0m\u001b[0;34m,\u001b[0m \u001b[0mdataset\u001b[0m\u001b[0;34m=\u001b[0m\u001b[0;34m'cifar10'\u001b[0m\u001b[0;34m,\u001b[0m \u001b[0mthreat_model\u001b[0m\u001b[0;34m=\u001b[0m\u001b[0;34m'corruptions'\u001b[0m\u001b[0;34m)\u001b[0m\u001b[0;34m\u001b[0m\u001b[0;34m\u001b[0m\u001b[0m\n\u001b[0m",
      "\u001b[0;32m~/anaconda3/envs/object/lib/python3.7/site-packages/robustbench/utils.py\u001b[0m in \u001b[0;36mload_model\u001b[0;34m(model_name, model_dir, dataset, threat_model, norm)\u001b[0m\n\u001b[1;32m    104\u001b[0m     \u001b[0mmodels\u001b[0m \u001b[0;34m=\u001b[0m \u001b[0mall_models\u001b[0m\u001b[0;34m[\u001b[0m\u001b[0mdataset_\u001b[0m\u001b[0;34m]\u001b[0m\u001b[0;34m[\u001b[0m\u001b[0mthreat_model_\u001b[0m\u001b[0;34m]\u001b[0m\u001b[0;34m\u001b[0m\u001b[0;34m\u001b[0m\u001b[0m\n\u001b[1;32m    105\u001b[0m \u001b[0;34m\u001b[0m\u001b[0m\n\u001b[0;32m--> 106\u001b[0;31m     \u001b[0;32mif\u001b[0m \u001b[0;32mnot\u001b[0m \u001b[0misinstance\u001b[0m\u001b[0;34m(\u001b[0m\u001b[0mmodels\u001b[0m\u001b[0;34m[\u001b[0m\u001b[0mmodel_name\u001b[0m\u001b[0;34m]\u001b[0m\u001b[0;34m[\u001b[0m\u001b[0;34m'gdrive_id'\u001b[0m\u001b[0;34m]\u001b[0m\u001b[0;34m,\u001b[0m \u001b[0mlist\u001b[0m\u001b[0;34m)\u001b[0m\u001b[0;34m:\u001b[0m\u001b[0;34m\u001b[0m\u001b[0;34m\u001b[0m\u001b[0m\n\u001b[0m\u001b[1;32m    107\u001b[0m         \u001b[0mmodel\u001b[0m \u001b[0;34m=\u001b[0m \u001b[0mmodels\u001b[0m\u001b[0;34m[\u001b[0m\u001b[0mmodel_name\u001b[0m\u001b[0;34m]\u001b[0m\u001b[0;34m[\u001b[0m\u001b[0;34m'model'\u001b[0m\u001b[0;34m]\u001b[0m\u001b[0;34m(\u001b[0m\u001b[0;34m)\u001b[0m\u001b[0;34m\u001b[0m\u001b[0;34m\u001b[0m\u001b[0m\n\u001b[1;32m    108\u001b[0m         \u001b[0;32mif\u001b[0m \u001b[0;32mnot\u001b[0m \u001b[0mos\u001b[0m\u001b[0;34m.\u001b[0m\u001b[0mpath\u001b[0m\u001b[0;34m.\u001b[0m\u001b[0mexists\u001b[0m\u001b[0;34m(\u001b[0m\u001b[0mmodel_dir_\u001b[0m\u001b[0;34m)\u001b[0m\u001b[0;34m:\u001b[0m\u001b[0;34m\u001b[0m\u001b[0;34m\u001b[0m\u001b[0m\n",
      "\u001b[0;31mKeyError\u001b[0m: 'Carmon2019Unlabeled'"
     ]
    }
   ],
   "source": [
    "model = load_model(model_name='Carmon2019Unlabeled', dataset='cifar10', threat_model='corruptions')"
   ]
  },
  {
   "cell_type": "code",
   "execution_count": 26,
   "id": "420f508a-2937-467c-9143-851f86a20ce2",
   "metadata": {},
   "outputs": [],
   "source": [
    "from robustbench.model_zoo import model_dicts as all_models\n",
    "from robustbench.model_zoo.enums import BenchmarkDataset, ThreatModel\n",
    "\n",
    "dataset = BenchmarkDataset.cifar_10\n",
    "threat_model = ThreatModel.Linf\n",
    "dataset_: BenchmarkDataset = BenchmarkDataset(dataset)\n",
    "threat_model_: ThreatModel = ThreatModel(threat_model)\n",
    "models = all_models[dataset_][threat_model_]"
   ]
  },
  {
   "cell_type": "code",
   "execution_count": 27,
   "id": "35610899-2bd1-4160-8bf4-60e841786345",
   "metadata": {},
   "outputs": [
    {
     "data": {
      "text/plain": [
       "OrderedDict([(<BenchmarkDataset.cifar_10: 'cifar10'>,\n",
       "              OrderedDict([(<ThreatModel.Linf: 'Linf'>,\n",
       "                            OrderedDict([('Carmon2019Unlabeled',\n",
       "                                          {'model': robustbench.model_zoo.cifar10.Carmon2019UnlabeledNet,\n",
       "                                           'gdrive_id': '15tUx-gkZMYx7BfEOw1GY5OKC-jECIsPQ'}),\n",
       "                                         ('Sehwag2020Hydra',\n",
       "                                          {'model': robustbench.model_zoo.cifar10.Sehwag2020PruningNet,\n",
       "                                           'gdrive_id': '1pi8GHwAVkxVH41hEnf0IAJb_7y-Q8a2Y'}),\n",
       "                                         ('Wang2020Improving',\n",
       "                                          {'model': robustbench.model_zoo.cifar10.Wang2020ImprovingNet,\n",
       "                                           'gdrive_id': '1T939mU4kXYt5bbvM55aT4fLBvRhyzjiQ'}),\n",
       "                                         ('Hendrycks2019Using',\n",
       "                                          {'model': robustbench.model_zoo.cifar10.Hendrycks2019UsingNet,\n",
       "                                           'gdrive_id': '1-DcJsYw2dNEOyF9epks2QS7r9nqBDEsw'}),\n",
       "                                         ('Rice2020Overfitting',\n",
       "                                          {'model': robustbench.model_zoo.cifar10.Rice2020OverfittingNet,\n",
       "                                           'gdrive_id': '1vC_Twazji7lBjeMQvAD9uEQxi9Nx2oG-'}),\n",
       "                                         ('Zhang2019Theoretically',\n",
       "                                          {'model': robustbench.model_zoo.cifar10.Zhang2019TheoreticallyNet,\n",
       "                                           'gdrive_id': '1hPz9QQwyM7QSuWu-ANG_uXR-29xtL8t_'}),\n",
       "                                         ('Engstrom2019Robustness',\n",
       "                                          {'model': robustbench.model_zoo.cifar10.Engstrom2019RobustnessNet,\n",
       "                                           'gdrive_id': '1etqmQsksNIWBvBQ4r8ZFk_3FJlLWr8Rr'}),\n",
       "                                         ('Chen2020Adversarial',\n",
       "                                          {'model': robustbench.model_zoo.cifar10.Chen2020AdversarialNet,\n",
       "                                           'gdrive_id': ['1HrG22y_A9F0hKHhh2cLLvKxsQTJTLE_y',\n",
       "                                            '1DB2ymt0rMnsMk5hTuUzoMTpMKEKWpExd',\n",
       "                                            '1GfgzNZcC190-IrT7056IZFDB6LfMUL9m']}),\n",
       "                                         ('Huang2020Self',\n",
       "                                          {'model': robustbench.model_zoo.cifar10.Huang2020SelfNet,\n",
       "                                           'gdrive_id': '1nInDeIyZe2G-mJFxQJ3UoclQNomWjMgm'}),\n",
       "                                         ('Pang2020Boosting',\n",
       "                                          {'model': robustbench.model_zoo.cifar10.Pang2020BoostingNet,\n",
       "                                           'gdrive_id': '1iNWOj3MP7kGe8yTAS4XnDaDXDLt0mwqw'}),\n",
       "                                         ('Wong2020Fast',\n",
       "                                          {'model': robustbench.model_zoo.cifar10.Wong2020FastNet,\n",
       "                                           'gdrive_id': '1Re--_lf3jCEw9bnQqGkjw3J7v2tSZKrv'}),\n",
       "                                         ('Ding2020MMA',\n",
       "                                          {'model': robustbench.model_zoo.cifar10.Ding2020MMANet,\n",
       "                                           'gdrive_id': '19Q_rIIHXsYzxZ0WcZdqT-N2OD7MfgoZ0'}),\n",
       "                                         ('Zhang2019You',\n",
       "                                          {'model': robustbench.model_zoo.cifar10.Zhang2019YouNet,\n",
       "                                           'gdrive_id': '1kB2qqPQ8qUNmK8VKuTOhT1X4GT46kAoA'}),\n",
       "                                         ('Standard',\n",
       "                                          {'model': robustbench.model_zoo.cifar10.StandardNet,\n",
       "                                           'gdrive_id': '1t98aEuzeTL8P7Kpd5DIrCoCL21BNZUhC'}),\n",
       "                                         ('Zhang2020Attacks',\n",
       "                                          {'model': robustbench.model_zoo.cifar10.Zhang2020AttacksNet,\n",
       "                                           'gdrive_id': '1lBVvLG6JLXJgQP2gbsTxNHl6s3YAopqk'}),\n",
       "                                         ('Wu2020Adversarial_extra',\n",
       "                                          {'model': robustbench.model_zoo.cifar10.Wu2020AdversarialNet,\n",
       "                                           'gdrive_id': '1-WJWpAZLlmc4gJ8XXNf7IETjnSZzaCNp'}),\n",
       "                                         ('Wu2020Adversarial',\n",
       "                                          {'model': robustbench.model_zoo.cifar10.Wu2020AdversarialNetL2,\n",
       "                                           'gdrive_id': '13LBcgNvhFppCFG22i1xATrahFPfMgXGf'}),\n",
       "                                         ('Gowal2020Uncovering_70_16',\n",
       "                                          {'model': robustbench.model_zoo.cifar10.Gowal2020UncoveringNet,\n",
       "                                           'gdrive_id': '1DVwKclibqzniE2Ss5_g6BY77ChG8QKzl'}),\n",
       "                                         ('Gowal2020Uncovering_70_16_extra',\n",
       "                                          {'model': robustbench.model_zoo.cifar10.Gowal2020UncoveringNet,\n",
       "                                           'gdrive_id': '1GxryYj_Or-VCDca0wgiFLz4ssXSZXQoJ'}),\n",
       "                                         ('Gowal2020Uncovering_34_20',\n",
       "                                          {'model': <function robustbench.model_zoo.cifar10.<lambda>()>,\n",
       "                                           'gdrive_id': '1YWvZO1u9_yNLFNC3JYd_TVkvrRSMER1O'}),\n",
       "                                         ('Gowal2020Uncovering_28_10_extra',\n",
       "                                          {'model': <function robustbench.model_zoo.cifar10.<lambda>()>,\n",
       "                                           'gdrive_id': '1MBAWGxiZxKt-GfqEqtLcXcd3tAxPhvV2'})])),\n",
       "                           (<ThreatModel.L2: 'L2'>,\n",
       "                            OrderedDict([('Augustin2020Adversarial',\n",
       "                                          {'model': robustbench.model_zoo.cifar10.Augustin2020AdversarialNet,\n",
       "                                           'gdrive_id': '1oDghrzNfkStC2wr5Fq8T896yNV4wVG4d'}),\n",
       "                                         ('Engstrom2019Robustness',\n",
       "                                          {'model': robustbench.model_zoo.cifar10.Engstrom2019RobustnessNet,\n",
       "                                           'gdrive_id': '1O8rGa6xOUIRwQ-M4ESrCjzknby8TM2ZE'}),\n",
       "                                         ('Rice2020Overfitting',\n",
       "                                          {'model': robustbench.model_zoo.cifar10.Rice2020OverfittingNetL2,\n",
       "                                           'gdrive_id': '1jo-31utiYNBVzLM0NxUEWz0teo3Z0xa7'}),\n",
       "                                         ('Rony2019Decoupling',\n",
       "                                          {'model': robustbench.model_zoo.cifar10.Rony2019DecouplingNet,\n",
       "                                           'gdrive_id': '1Oua2ZYSxNvoDrtlY9vTtRzyBWHziE4Uy'}),\n",
       "                                         ('Standard',\n",
       "                                          {'model': robustbench.model_zoo.cifar10.StandardNet,\n",
       "                                           'gdrive_id': '1t98aEuzeTL8P7Kpd5DIrCoCL21BNZUhC'}),\n",
       "                                         ('Ding2020MMA',\n",
       "                                          {'model': robustbench.model_zoo.cifar10.Ding2020MMANet,\n",
       "                                           'gdrive_id': '13wgY0Q_eor52ltZ0PkfJx5BCZ8cLM52E'}),\n",
       "                                         ('Wu2020Adversarial',\n",
       "                                          {'model': robustbench.model_zoo.cifar10.Wu2020AdversarialNetL2,\n",
       "                                           'gdrive_id': '1M5AZ0EZQt7d2AlTmsnqZcfx91-x7YEAV'}),\n",
       "                                         ('Gowal2020Uncovering',\n",
       "                                          {'model': robustbench.model_zoo.cifar10.Gowal2020UncoveringNet,\n",
       "                                           'gdrive_id': '1QL4SNvYydjIg1uI3VP9SyNt-2kTXRisG'}),\n",
       "                                         ('Gowal2020Uncovering_extra',\n",
       "                                          {'model': robustbench.model_zoo.cifar10.Gowal2020UncoveringNet,\n",
       "                                           'gdrive_id': '1pkZDCpCBShpAnx92n8PUeNOY1fSiTi0s'})])),\n",
       "                           (<ThreatModel.corruptions: 'corruptions'>,\n",
       "                            OrderedDict([('Hendrycks2020AugMix_WRN',\n",
       "                                          {'model': robustbench.model_zoo.cifar10.Hendrycks2020AugMixWRNNet,\n",
       "                                           'gdrive_id': '1wy7gSRsUZzCzj8QhmTbcnwmES_2kkNph'}),\n",
       "                                         ('Hendrycks2020AugMix_ResNeXt',\n",
       "                                          {'model': robustbench.model_zoo.cifar10.Hendrycks2020AugMixResNeXtNet,\n",
       "                                           'gdrive_id': '1uGP3nZbL3LC160kOsxwkkt6tDd4qbZT1'}),\n",
       "                                         ('Kireev2021Effectiveness_Gauss50percent',\n",
       "                                          {'model': robustbench.model_zoo.cifar10.Kireev2021EffectivenessNet,\n",
       "                                           'gdrive_id': '1zR6lwYLkO3TFSgeqvu_CMYTq_IS-eicQ'}),\n",
       "                                         ('Kireev2021Effectiveness_AugMixNoJSD',\n",
       "                                          {'model': robustbench.model_zoo.cifar10.Kireev2021EffectivenessNet,\n",
       "                                           'gdrive_id': '1p_1v1Oa-FSrjHTAq63QX4WtLYETkcbdH'}),\n",
       "                                         ('Kireev2021Effectiveness_RLAT',\n",
       "                                          {'model': robustbench.model_zoo.cifar10.Kireev2021EffectivenessNet,\n",
       "                                           'gdrive_id': '16bCDA_5Rhr6qMKHRAO5W-4nu9_10kFyF'}),\n",
       "                                         ('Kireev2021Effectiveness_RLATAugMixNoJSD',\n",
       "                                          {'model': robustbench.model_zoo.cifar10.Kireev2021EffectivenessNet,\n",
       "                                           'gdrive_id': '1hgJuvLPSVQMbUczn8qnIphONlJePsWgU'}),\n",
       "                                         ('Standard',\n",
       "                                          {'model': robustbench.model_zoo.cifar10.StandardNet,\n",
       "                                           'gdrive_id': '1t98aEuzeTL8P7Kpd5DIrCoCL21BNZUhC'})]))]))])"
      ]
     },
     "execution_count": 27,
     "metadata": {},
     "output_type": "execute_result"
    }
   ],
   "source": [
    "all_models"
   ]
  },
  {
   "cell_type": "code",
   "execution_count": null,
   "id": "c6caca23-51d1-4f2e-84e4-8a9e642d0450",
   "metadata": {},
   "outputs": [],
   "source": []
  }
 ],
 "metadata": {
  "kernelspec": {
   "display_name": "object",
   "language": "python",
   "name": "object"
  },
  "language_info": {
   "codemirror_mode": {
    "name": "ipython",
    "version": 3
   },
   "file_extension": ".py",
   "mimetype": "text/x-python",
   "name": "python",
   "nbconvert_exporter": "python",
   "pygments_lexer": "ipython3",
   "version": "3.7.11"
  }
 },
 "nbformat": 4,
 "nbformat_minor": 5
}
